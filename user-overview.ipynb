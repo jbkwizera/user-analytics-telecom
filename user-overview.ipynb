{
 "cells": [
  {
   "cell_type": "code",
   "execution_count": 1,
   "id": "8140d54c",
   "metadata": {},
   "outputs": [],
   "source": [
    "import collections\n",
    "import pandas as pd"
   ]
  },
  {
   "cell_type": "code",
   "execution_count": 2,
   "id": "dea7d0b0",
   "metadata": {},
   "outputs": [],
   "source": [
    "df = pd.read_excel(\"./data/Week1_challenge_data_source.xlsx\")"
   ]
  },
  {
   "cell_type": "code",
   "execution_count": 7,
   "id": "3d125ec0",
   "metadata": {},
   "outputs": [
    {
     "data": {
      "text/plain": [
       "Index(['Bearer Id', 'Start', 'Start ms', 'End', 'End ms', 'Dur. (ms)', 'IMSI',\n",
       "       'MSISDN/Number', 'IMEI', 'Last Location Name', 'Avg RTT DL (ms)',\n",
       "       'Avg RTT UL (ms)', 'Avg Bearer TP DL (kbps)', 'Avg Bearer TP UL (kbps)',\n",
       "       'TCP DL Retrans. Vol (Bytes)', 'TCP UL Retrans. Vol (Bytes)',\n",
       "       'DL TP < 50 Kbps (%)', '50 Kbps < DL TP < 250 Kbps (%)',\n",
       "       '250 Kbps < DL TP < 1 Mbps (%)', 'DL TP > 1 Mbps (%)',\n",
       "       'UL TP < 10 Kbps (%)', '10 Kbps < UL TP < 50 Kbps (%)',\n",
       "       '50 Kbps < UL TP < 300 Kbps (%)', 'UL TP > 300 Kbps (%)',\n",
       "       'HTTP DL (Bytes)', 'HTTP UL (Bytes)', 'Activity Duration DL (ms)',\n",
       "       'Activity Duration UL (ms)', 'Dur. (ms).1', 'Handset Manufacturer',\n",
       "       'Handset Type', 'Nb of sec with 125000B < Vol DL',\n",
       "       'Nb of sec with 1250B < Vol UL < 6250B',\n",
       "       'Nb of sec with 31250B < Vol DL < 125000B',\n",
       "       'Nb of sec with 37500B < Vol UL',\n",
       "       'Nb of sec with 6250B < Vol DL < 31250B',\n",
       "       'Nb of sec with 6250B < Vol UL < 37500B',\n",
       "       'Nb of sec with Vol DL < 6250B', 'Nb of sec with Vol UL < 1250B',\n",
       "       'Social Media DL (Bytes)', 'Social Media UL (Bytes)',\n",
       "       'Google DL (Bytes)', 'Google UL (Bytes)', 'Email DL (Bytes)',\n",
       "       'Email UL (Bytes)', 'Youtube DL (Bytes)', 'Youtube UL (Bytes)',\n",
       "       'Netflix DL (Bytes)', 'Netflix UL (Bytes)', 'Gaming DL (Bytes)',\n",
       "       'Gaming UL (Bytes)', 'Other DL (Bytes)', 'Other UL (Bytes)',\n",
       "       'Total UL (Bytes)', 'Total DL (Bytes)'],\n",
       "      dtype='object')"
      ]
     },
     "execution_count": 7,
     "metadata": {},
     "output_type": "execute_result"
    }
   ],
   "source": [
    "df.columns"
   ]
  },
  {
   "cell_type": "markdown",
   "id": "3fb9b60b",
   "metadata": {},
   "source": [
    "## Top 10 handsets"
   ]
  },
  {
   "cell_type": "code",
   "execution_count": 8,
   "id": "7365f9af",
   "metadata": {},
   "outputs": [
    {
     "name": "stdout",
     "output_type": "stream",
     "text": [
      "Huawei B528S-23A 19752\n",
      "Apple iPhone 6S (A1688) 9419\n",
      "Apple iPhone 6 (A1586) 9023\n",
      "undefined 8987\n",
      "Apple iPhone 7 (A1778) 6326\n",
      "Apple iPhone Se (A1723) 5187\n",
      "Apple iPhone 8 (A1905) 4993\n",
      "Apple iPhone Xr (A2105) 4568\n",
      "Samsung Galaxy S8 (Sm-G950F) 4520\n",
      "Apple iPhone X (A1901) 3813\n"
     ]
    }
   ],
   "source": [
    "handset_counter = collections.Counter(df[\"Handset Type\"])\n",
    "for handset in sorted(handset_counter, key=lambda h: handset_counter[h], reverse=True)[:10]:\n",
    "    print(handset, handset_counter[handset])"
   ]
  },
  {
   "cell_type": "markdown",
   "id": "96fcdc1e",
   "metadata": {},
   "source": [
    "## Top 3 manufacturers and and top 5 handsets for each of them"
   ]
  },
  {
   "cell_type": "code",
   "execution_count": 10,
   "id": "25ab2e7d",
   "metadata": {},
   "outputs": [
    {
     "name": "stdout",
     "output_type": "stream",
     "text": [
      "Apple 59565\n",
      "\t Apple iPhone 6S (A1688) 9419\n",
      "\t Apple iPhone 6 (A1586) 9023\n",
      "\t Apple iPhone 7 (A1778) 6326\n",
      "\t Apple iPhone Se (A1723) 5187\n",
      "\t Apple iPhone 8 (A1905) 4993\n",
      "Samsung 40839\n",
      "\t Samsung Galaxy S8 (Sm-G950F) 4520\n",
      "\t Samsung Galaxy A5 Sm-A520F 3724\n",
      "\t Samsung Galaxy J5 (Sm-J530) 3696\n",
      "\t Samsung Galaxy J3 (Sm-J330) 3484\n",
      "\t Samsung Galaxy S7 (Sm-G930X) 3199\n",
      "Huawei 34423\n",
      "\t Huawei B528S-23A 19752\n",
      "\t Huawei E5180 2079\n",
      "\t Huawei P20 Lite Huawei Nova 3E 2021\n",
      "\t Huawei P20 1480\n",
      "\t Huawei Y6 2018 997\n"
     ]
    }
   ],
   "source": [
    "manufact_counter = collections.Counter(df[\"Handset Manufacturer\"])\n",
    "for manufact in sorted(manufact_counter, key=lambda m: manufact_counter[m], reverse=True)[:3]:\n",
    "    print(manufact, manufact_counter[manufact])\n",
    "    handsets_by_manufact_counter = collections.Counter(\n",
    "        df.loc[df[\"Handset Manufacturer\"] == manufact][\"Handset Type\"])\n",
    "    for handset in sorted(handsets_by_manufact_counter, key=lambda h: handsets_by_manufact_counter[h], reverse=True)[:5]:\n",
    "        print(\"\\t\", handset, handsets_by_manufact_counter[handset])"
   ]
  }
 ],
 "metadata": {
  "kernelspec": {
   "display_name": "Python 3 (ipykernel)",
   "language": "python",
   "name": "python3"
  },
  "language_info": {
   "codemirror_mode": {
    "name": "ipython",
    "version": 3
   },
   "file_extension": ".py",
   "mimetype": "text/x-python",
   "name": "python",
   "nbconvert_exporter": "python",
   "pygments_lexer": "ipython3",
   "version": "3.8.10"
  }
 },
 "nbformat": 4,
 "nbformat_minor": 5
}
